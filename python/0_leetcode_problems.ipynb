{
 "cells": [
  {
   "cell_type": "markdown",
   "metadata": {},
   "source": [
    "## Задача 202. Счастливое число"
   ]
  },
  {
   "cell_type": "code",
   "execution_count": 1,
   "metadata": {},
   "outputs": [
    {
     "data": {
      "text/plain": [
       "True"
      ]
     },
     "execution_count": 1,
     "metadata": {},
     "output_type": "execute_result"
    }
   ],
   "source": [
    "import numpy as np\n",
    "\n",
    "class Solution202:\n",
    "    def is_happy_number(x: int) -> bool:\n",
    "        cache = []\n",
    "        while x != 1:\n",
    "            x = np.sum(np.square([int(i) for i in str(x)]))\n",
    "            if x in cache:\n",
    "                return False\n",
    "            else:\n",
    "                cache.append(x)\n",
    "        \n",
    "        return True\n",
    "\n",
    "Solution202.is_happy_number(x=19)"
   ]
  },
  {
   "cell_type": "code",
   "execution_count": null,
   "metadata": {},
   "outputs": [],
   "source": []
  }
 ],
 "metadata": {
  "interpreter": {
   "hash": "a21f1e1f4c0fad374ca5b2b9ddf317634a285327049226ec7e405f1dd50a93c4"
  },
  "kernelspec": {
   "display_name": "Python 3.10.5 ('venv': venv)",
   "language": "python",
   "name": "python3"
  },
  "language_info": {
   "codemirror_mode": {
    "name": "ipython",
    "version": 3
   },
   "file_extension": ".py",
   "mimetype": "text/x-python",
   "name": "python",
   "nbconvert_exporter": "python",
   "pygments_lexer": "ipython3",
   "version": "3.10.5"
  },
  "orig_nbformat": 4
 },
 "nbformat": 4,
 "nbformat_minor": 2
}
